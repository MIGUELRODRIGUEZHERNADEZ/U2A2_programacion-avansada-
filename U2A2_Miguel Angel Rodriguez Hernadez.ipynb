{
 "cells": [
  {
   "cell_type": "code",
   "execution_count": 5,
   "id": "0a343370-d4cc-4096-b946-4b0f44441091",
   "metadata": {},
   "outputs": [],
   "source": [
    "import numpy as np"
   ]
  },
  {
   "cell_type": "markdown",
   "id": "ba39042e-cfa9-49a4-be72-63c72a839646",
   "metadata": {},
   "source": [
    "# Datos de la tabla (puntaje de crédito, ingresos, monto del préstamo, relación deuda/ingresos)"
   ]
  },
  {
   "cell_type": "code",
   "execution_count": 7,
   "id": "68805f75-57e1-49ee-8fc1-4e6c0c99c488",
   "metadata": {},
   "outputs": [],
   "source": [
    "X = np.array([\n",
    "    [750, 5.0, 20.0, 0.3],\n",
    "    [600, 3.0, 15.0, 0.6],\n",
    "    [680, 4.0, 10.0, 0.4],\n",
    "    [550, 2.5, 8.0, 0.7],\n",
    "    [800, 6.0, 25.0, 0.2]\n",
    "])"
   ]
  },
  {
   "cell_type": "markdown",
   "id": "eb781cfd-46b5-4f70-98bd-68632f4ee035",
   "metadata": {},
   "source": [
    "# Salida esperada (Solicitud Aprobada: 1 = Sí, 0 = No)"
   ]
  },
  {
   "cell_type": "code",
   "execution_count": 9,
   "id": "23379f1c-80ac-45c6-8a25-065fdce66e6b",
   "metadata": {},
   "outputs": [],
   "source": [
    "y = np.array([1, 0, 1, 0, 1])\n"
   ]
  },
  {
   "cell_type": "markdown",
   "id": "1d69faa0-3402-4a24-aa4e-34a03e363550",
   "metadata": {},
   "source": [
    "# Normalización de datos (min-max scaling)"
   ]
  },
  {
   "cell_type": "code",
   "execution_count": 10,
   "id": "cc4dc235-ac32-4332-8f38-49ed4ddafa11",
   "metadata": {},
   "outputs": [],
   "source": [
    "X = (X - X.min(axis=0)) / (X.max(axis=0) - X.min(axis=0))"
   ]
  },
  {
   "cell_type": "markdown",
   "id": "7635407d-a77d-4f49-8dba-c8f4cc58f6af",
   "metadata": {},
   "source": [
    "# Parámetros del perceptrón"
   ]
  },
  {
   "cell_type": "code",
   "execution_count": 11,
   "id": "dc087237-fa67-4baf-83ac-39944a2bf7fd",
   "metadata": {},
   "outputs": [],
   "source": [
    "learning_rate = 0.1\n",
    "epochs = 20\n",
    "weights = np.random.rand(4)  # 4 características\n",
    "bias = np.random.rand()\n",
    "\n",
    "def activation_function(x):\n",
    "    return 1 if x >= 0 else 0\n"
   ]
  },
  {
   "cell_type": "markdown",
   "id": "f84db80e-e6ce-4cc0-a707-c66b3685ff7c",
   "metadata": {},
   "source": [
    "# Entrenamiento del perceptrón"
   ]
  },
  {
   "cell_type": "code",
   "execution_count": 12,
   "id": "5672c9c0-0bfc-450e-b3f0-b87a8b82860b",
   "metadata": {},
   "outputs": [
    {
     "name": "stdout",
     "output_type": "stream",
     "text": [
      "Época 1:\n",
      "  Muestra 1: Entrada [0.8        0.71428571 0.70588235 0.2       ], Salida esperada 1, Predicción 1, Error 0\n",
      "  Muestra 2: Entrada [0.2        0.14285714 0.41176471 0.8       ], Salida esperada 0, Predicción 1, Error -1\n",
      "  Muestra 3: Entrada [0.52       0.42857143 0.11764706 0.4       ], Salida esperada 1, Predicción 1, Error 0\n",
      "  Muestra 4: Entrada [0. 0. 0. 1.], Salida esperada 0, Predicción 1, Error -1\n",
      "  Muestra 5: Entrada [1. 1. 1. 0.], Salida esperada 1, Predicción 1, Error 0\n",
      "  Pesos actualizados: [0.57152025 0.4716569  0.87445904 0.45756283], Bias actualizado: -0.09176922443690211\n",
      "\n",
      "Época 2:\n",
      "  Muestra 1: Entrada [0.8        0.71428571 0.70588235 0.2       ], Salida esperada 1, Predicción 1, Error 0\n",
      "  Muestra 2: Entrada [0.2        0.14285714 0.41176471 0.8       ], Salida esperada 0, Predicción 1, Error -1\n",
      "  Muestra 3: Entrada [0.52       0.42857143 0.11764706 0.4       ], Salida esperada 1, Predicción 1, Error 0\n",
      "  Muestra 4: Entrada [0. 0. 0. 1.], Salida esperada 0, Predicción 1, Error -1\n",
      "  Muestra 5: Entrada [1. 1. 1. 0.], Salida esperada 1, Predicción 1, Error 0\n",
      "  Pesos actualizados: [0.55152025 0.45737119 0.83328257 0.27756283], Bias actualizado: -0.2917692244369021\n",
      "\n",
      "Época 3:\n",
      "  Muestra 1: Entrada [0.8        0.71428571 0.70588235 0.2       ], Salida esperada 1, Predicción 1, Error 0\n",
      "  Muestra 2: Entrada [0.2        0.14285714 0.41176471 0.8       ], Salida esperada 0, Predicción 1, Error -1\n",
      "  Muestra 3: Entrada [0.52       0.42857143 0.11764706 0.4       ], Salida esperada 1, Predicción 1, Error 0\n",
      "  Muestra 4: Entrada [0. 0. 0. 1.], Salida esperada 0, Predicción 0, Error 0\n",
      "  Muestra 5: Entrada [1. 1. 1. 0.], Salida esperada 1, Predicción 1, Error 0\n",
      "  Pesos actualizados: [0.53152025 0.44308547 0.7921061  0.19756283], Bias actualizado: -0.3917692244369021\n",
      "\n",
      "Época 4:\n",
      "  Muestra 1: Entrada [0.8        0.71428571 0.70588235 0.2       ], Salida esperada 1, Predicción 1, Error 0\n",
      "  Muestra 2: Entrada [0.2        0.14285714 0.41176471 0.8       ], Salida esperada 0, Predicción 1, Error -1\n",
      "  Muestra 3: Entrada [0.52       0.42857143 0.11764706 0.4       ], Salida esperada 1, Predicción 1, Error 0\n",
      "  Muestra 4: Entrada [0. 0. 0. 1.], Salida esperada 0, Predicción 0, Error 0\n",
      "  Muestra 5: Entrada [1. 1. 1. 0.], Salida esperada 1, Predicción 1, Error 0\n",
      "  Pesos actualizados: [0.51152025 0.42879976 0.75092963 0.11756283], Bias actualizado: -0.4917692244369021\n",
      "\n",
      "Época 5:\n",
      "  Muestra 1: Entrada [0.8        0.71428571 0.70588235 0.2       ], Salida esperada 1, Predicción 1, Error 0\n",
      "  Muestra 2: Entrada [0.2        0.14285714 0.41176471 0.8       ], Salida esperada 0, Predicción 1, Error -1\n",
      "  Muestra 3: Entrada [0.52       0.42857143 0.11764706 0.4       ], Salida esperada 1, Predicción 0, Error 1\n",
      "  Muestra 4: Entrada [0. 0. 0. 1.], Salida esperada 0, Predicción 0, Error 0\n",
      "  Muestra 5: Entrada [1. 1. 1. 0.], Salida esperada 1, Predicción 1, Error 0\n",
      "  Pesos actualizados: [0.54352025 0.45737119 0.72151787 0.07756283], Bias actualizado: -0.4917692244369021\n",
      "\n",
      "Época 6:\n",
      "  Muestra 1: Entrada [0.8        0.71428571 0.70588235 0.2       ], Salida esperada 1, Predicción 1, Error 0\n",
      "  Muestra 2: Entrada [0.2        0.14285714 0.41176471 0.8       ], Salida esperada 0, Predicción 1, Error -1\n",
      "  Muestra 3: Entrada [0.52       0.42857143 0.11764706 0.4       ], Salida esperada 1, Predicción 0, Error 1\n",
      "  Muestra 4: Entrada [0. 0. 0. 1.], Salida esperada 0, Predicción 0, Error 0\n",
      "  Muestra 5: Entrada [1. 1. 1. 0.], Salida esperada 1, Predicción 1, Error 0\n",
      "  Pesos actualizados: [0.57552025 0.48594262 0.6921061  0.03756283], Bias actualizado: -0.4917692244369021\n",
      "\n",
      "Época 7:\n",
      "  Muestra 1: Entrada [0.8        0.71428571 0.70588235 0.2       ], Salida esperada 1, Predicción 1, Error 0\n",
      "  Muestra 2: Entrada [0.2        0.14285714 0.41176471 0.8       ], Salida esperada 0, Predicción 1, Error -1\n",
      "  Muestra 3: Entrada [0.52       0.42857143 0.11764706 0.4       ], Salida esperada 1, Predicción 0, Error 1\n",
      "  Muestra 4: Entrada [0. 0. 0. 1.], Salida esperada 0, Predicción 0, Error 0\n",
      "  Muestra 5: Entrada [1. 1. 1. 0.], Salida esperada 1, Predicción 1, Error 0\n",
      "  Pesos actualizados: [ 0.60752025  0.51451405  0.66269434 -0.00243717], Bias actualizado: -0.4917692244369021\n",
      "\n",
      "Época 8:\n",
      "  Muestra 1: Entrada [0.8        0.71428571 0.70588235 0.2       ], Salida esperada 1, Predicción 1, Error 0\n",
      "  Muestra 2: Entrada [0.2        0.14285714 0.41176471 0.8       ], Salida esperada 0, Predicción 0, Error 0\n",
      "  Muestra 3: Entrada [0.52       0.42857143 0.11764706 0.4       ], Salida esperada 1, Predicción 1, Error 0\n",
      "  Muestra 4: Entrada [0. 0. 0. 1.], Salida esperada 0, Predicción 0, Error 0\n",
      "  Muestra 5: Entrada [1. 1. 1. 0.], Salida esperada 1, Predicción 1, Error 0\n",
      "  Pesos actualizados: [ 0.60752025  0.51451405  0.66269434 -0.00243717], Bias actualizado: -0.4917692244369021\n",
      "\n",
      "Época 9:\n",
      "  Muestra 1: Entrada [0.8        0.71428571 0.70588235 0.2       ], Salida esperada 1, Predicción 1, Error 0\n",
      "  Muestra 2: Entrada [0.2        0.14285714 0.41176471 0.8       ], Salida esperada 0, Predicción 0, Error 0\n",
      "  Muestra 3: Entrada [0.52       0.42857143 0.11764706 0.4       ], Salida esperada 1, Predicción 1, Error 0\n",
      "  Muestra 4: Entrada [0. 0. 0. 1.], Salida esperada 0, Predicción 0, Error 0\n",
      "  Muestra 5: Entrada [1. 1. 1. 0.], Salida esperada 1, Predicción 1, Error 0\n",
      "  Pesos actualizados: [ 0.60752025  0.51451405  0.66269434 -0.00243717], Bias actualizado: -0.4917692244369021\n",
      "\n",
      "Época 10:\n",
      "  Muestra 1: Entrada [0.8        0.71428571 0.70588235 0.2       ], Salida esperada 1, Predicción 1, Error 0\n",
      "  Muestra 2: Entrada [0.2        0.14285714 0.41176471 0.8       ], Salida esperada 0, Predicción 0, Error 0\n",
      "  Muestra 3: Entrada [0.52       0.42857143 0.11764706 0.4       ], Salida esperada 1, Predicción 1, Error 0\n",
      "  Muestra 4: Entrada [0. 0. 0. 1.], Salida esperada 0, Predicción 0, Error 0\n",
      "  Muestra 5: Entrada [1. 1. 1. 0.], Salida esperada 1, Predicción 1, Error 0\n",
      "  Pesos actualizados: [ 0.60752025  0.51451405  0.66269434 -0.00243717], Bias actualizado: -0.4917692244369021\n",
      "\n",
      "Época 11:\n",
      "  Muestra 1: Entrada [0.8        0.71428571 0.70588235 0.2       ], Salida esperada 1, Predicción 1, Error 0\n",
      "  Muestra 2: Entrada [0.2        0.14285714 0.41176471 0.8       ], Salida esperada 0, Predicción 0, Error 0\n",
      "  Muestra 3: Entrada [0.52       0.42857143 0.11764706 0.4       ], Salida esperada 1, Predicción 1, Error 0\n",
      "  Muestra 4: Entrada [0. 0. 0. 1.], Salida esperada 0, Predicción 0, Error 0\n",
      "  Muestra 5: Entrada [1. 1. 1. 0.], Salida esperada 1, Predicción 1, Error 0\n",
      "  Pesos actualizados: [ 0.60752025  0.51451405  0.66269434 -0.00243717], Bias actualizado: -0.4917692244369021\n",
      "\n",
      "Época 12:\n",
      "  Muestra 1: Entrada [0.8        0.71428571 0.70588235 0.2       ], Salida esperada 1, Predicción 1, Error 0\n",
      "  Muestra 2: Entrada [0.2        0.14285714 0.41176471 0.8       ], Salida esperada 0, Predicción 0, Error 0\n",
      "  Muestra 3: Entrada [0.52       0.42857143 0.11764706 0.4       ], Salida esperada 1, Predicción 1, Error 0\n",
      "  Muestra 4: Entrada [0. 0. 0. 1.], Salida esperada 0, Predicción 0, Error 0\n",
      "  Muestra 5: Entrada [1. 1. 1. 0.], Salida esperada 1, Predicción 1, Error 0\n",
      "  Pesos actualizados: [ 0.60752025  0.51451405  0.66269434 -0.00243717], Bias actualizado: -0.4917692244369021\n",
      "\n",
      "Época 13:\n",
      "  Muestra 1: Entrada [0.8        0.71428571 0.70588235 0.2       ], Salida esperada 1, Predicción 1, Error 0\n",
      "  Muestra 2: Entrada [0.2        0.14285714 0.41176471 0.8       ], Salida esperada 0, Predicción 0, Error 0\n",
      "  Muestra 3: Entrada [0.52       0.42857143 0.11764706 0.4       ], Salida esperada 1, Predicción 1, Error 0\n",
      "  Muestra 4: Entrada [0. 0. 0. 1.], Salida esperada 0, Predicción 0, Error 0\n",
      "  Muestra 5: Entrada [1. 1. 1. 0.], Salida esperada 1, Predicción 1, Error 0\n",
      "  Pesos actualizados: [ 0.60752025  0.51451405  0.66269434 -0.00243717], Bias actualizado: -0.4917692244369021\n",
      "\n",
      "Época 14:\n",
      "  Muestra 1: Entrada [0.8        0.71428571 0.70588235 0.2       ], Salida esperada 1, Predicción 1, Error 0\n",
      "  Muestra 2: Entrada [0.2        0.14285714 0.41176471 0.8       ], Salida esperada 0, Predicción 0, Error 0\n",
      "  Muestra 3: Entrada [0.52       0.42857143 0.11764706 0.4       ], Salida esperada 1, Predicción 1, Error 0\n",
      "  Muestra 4: Entrada [0. 0. 0. 1.], Salida esperada 0, Predicción 0, Error 0\n",
      "  Muestra 5: Entrada [1. 1. 1. 0.], Salida esperada 1, Predicción 1, Error 0\n",
      "  Pesos actualizados: [ 0.60752025  0.51451405  0.66269434 -0.00243717], Bias actualizado: -0.4917692244369021\n",
      "\n",
      "Época 15:\n",
      "  Muestra 1: Entrada [0.8        0.71428571 0.70588235 0.2       ], Salida esperada 1, Predicción 1, Error 0\n",
      "  Muestra 2: Entrada [0.2        0.14285714 0.41176471 0.8       ], Salida esperada 0, Predicción 0, Error 0\n",
      "  Muestra 3: Entrada [0.52       0.42857143 0.11764706 0.4       ], Salida esperada 1, Predicción 1, Error 0\n",
      "  Muestra 4: Entrada [0. 0. 0. 1.], Salida esperada 0, Predicción 0, Error 0\n",
      "  Muestra 5: Entrada [1. 1. 1. 0.], Salida esperada 1, Predicción 1, Error 0\n",
      "  Pesos actualizados: [ 0.60752025  0.51451405  0.66269434 -0.00243717], Bias actualizado: -0.4917692244369021\n",
      "\n",
      "Época 16:\n",
      "  Muestra 1: Entrada [0.8        0.71428571 0.70588235 0.2       ], Salida esperada 1, Predicción 1, Error 0\n",
      "  Muestra 2: Entrada [0.2        0.14285714 0.41176471 0.8       ], Salida esperada 0, Predicción 0, Error 0\n",
      "  Muestra 3: Entrada [0.52       0.42857143 0.11764706 0.4       ], Salida esperada 1, Predicción 1, Error 0\n",
      "  Muestra 4: Entrada [0. 0. 0. 1.], Salida esperada 0, Predicción 0, Error 0\n",
      "  Muestra 5: Entrada [1. 1. 1. 0.], Salida esperada 1, Predicción 1, Error 0\n",
      "  Pesos actualizados: [ 0.60752025  0.51451405  0.66269434 -0.00243717], Bias actualizado: -0.4917692244369021\n",
      "\n",
      "Época 17:\n",
      "  Muestra 1: Entrada [0.8        0.71428571 0.70588235 0.2       ], Salida esperada 1, Predicción 1, Error 0\n",
      "  Muestra 2: Entrada [0.2        0.14285714 0.41176471 0.8       ], Salida esperada 0, Predicción 0, Error 0\n",
      "  Muestra 3: Entrada [0.52       0.42857143 0.11764706 0.4       ], Salida esperada 1, Predicción 1, Error 0\n",
      "  Muestra 4: Entrada [0. 0. 0. 1.], Salida esperada 0, Predicción 0, Error 0\n",
      "  Muestra 5: Entrada [1. 1. 1. 0.], Salida esperada 1, Predicción 1, Error 0\n",
      "  Pesos actualizados: [ 0.60752025  0.51451405  0.66269434 -0.00243717], Bias actualizado: -0.4917692244369021\n",
      "\n",
      "Época 18:\n",
      "  Muestra 1: Entrada [0.8        0.71428571 0.70588235 0.2       ], Salida esperada 1, Predicción 1, Error 0\n",
      "  Muestra 2: Entrada [0.2        0.14285714 0.41176471 0.8       ], Salida esperada 0, Predicción 0, Error 0\n",
      "  Muestra 3: Entrada [0.52       0.42857143 0.11764706 0.4       ], Salida esperada 1, Predicción 1, Error 0\n",
      "  Muestra 4: Entrada [0. 0. 0. 1.], Salida esperada 0, Predicción 0, Error 0\n",
      "  Muestra 5: Entrada [1. 1. 1. 0.], Salida esperada 1, Predicción 1, Error 0\n",
      "  Pesos actualizados: [ 0.60752025  0.51451405  0.66269434 -0.00243717], Bias actualizado: -0.4917692244369021\n",
      "\n",
      "Época 19:\n",
      "  Muestra 1: Entrada [0.8        0.71428571 0.70588235 0.2       ], Salida esperada 1, Predicción 1, Error 0\n",
      "  Muestra 2: Entrada [0.2        0.14285714 0.41176471 0.8       ], Salida esperada 0, Predicción 0, Error 0\n",
      "  Muestra 3: Entrada [0.52       0.42857143 0.11764706 0.4       ], Salida esperada 1, Predicción 1, Error 0\n",
      "  Muestra 4: Entrada [0. 0. 0. 1.], Salida esperada 0, Predicción 0, Error 0\n",
      "  Muestra 5: Entrada [1. 1. 1. 0.], Salida esperada 1, Predicción 1, Error 0\n",
      "  Pesos actualizados: [ 0.60752025  0.51451405  0.66269434 -0.00243717], Bias actualizado: -0.4917692244369021\n",
      "\n",
      "Época 20:\n",
      "  Muestra 1: Entrada [0.8        0.71428571 0.70588235 0.2       ], Salida esperada 1, Predicción 1, Error 0\n",
      "  Muestra 2: Entrada [0.2        0.14285714 0.41176471 0.8       ], Salida esperada 0, Predicción 0, Error 0\n",
      "  Muestra 3: Entrada [0.52       0.42857143 0.11764706 0.4       ], Salida esperada 1, Predicción 1, Error 0\n",
      "  Muestra 4: Entrada [0. 0. 0. 1.], Salida esperada 0, Predicción 0, Error 0\n",
      "  Muestra 5: Entrada [1. 1. 1. 0.], Salida esperada 1, Predicción 1, Error 0\n",
      "  Pesos actualizados: [ 0.60752025  0.51451405  0.66269434 -0.00243717], Bias actualizado: -0.4917692244369021\n",
      "\n"
     ]
    }
   ],
   "source": [
    "for epoch in range(epochs):\n",
    "    print(f\"Época {epoch + 1}:\")\n",
    "    for i in range(len(X)):\n",
    "        linear_output = np.dot(X[i], weights) + bias\n",
    "        prediction = activation_function(linear_output)\n",
    "        error = y[i] - prediction\n",
    "\n",
    "        weights += learning_rate * error * X[i]\n",
    "        bias += learning_rate * error\n",
    "\n",
    "        print(f\"  Muestra {i+1}: Entrada {X[i]}, Salida esperada {y[i]}, Predicción {prediction}, Error {error}\")\n",
    "    print(f\"  Pesos actualizados: {weights}, Bias actualizado: {bias}\\n\")"
   ]
  },
  {
   "cell_type": "markdown",
   "id": "3c1bb46a-9247-4d69-b84a-a6f0a9d2494c",
   "metadata": {},
   "source": [
    "# Evaluación del modelo con un nuevo dato"
   ]
  },
  {
   "cell_type": "code",
   "execution_count": 13,
   "id": "72bdd844-38c8-44f6-a946-618ed4a67d02",
   "metadata": {},
   "outputs": [
    {
     "name": "stdout",
     "output_type": "stream",
     "text": [
      "El modelo evalúa la solicitud [7.0e+02 4.5e+00 1.2e+01 5.0e-01] como: Aprobada\n"
     ]
    }
   ],
   "source": [
    "# Evaluación del modelo con un nuevo dato\n",
    "nuevo_dato = np.array([700, 4.5, 12.0, 0.5])  # Nuevo dato de prueba\n",
    "nuevo_dato = (nuevo_dato - X.min(axis=0)) / (X.max(axis=0) - X.min(axis=0))  # Normalización\n",
    "salida = activation_function(np.dot(nuevo_dato, weights) + bias)\n",
    "print(f\"El modelo evalúa la solicitud {nuevo_dato} como: {'Aprobada' if salida == 1 else 'Rechazada'}\")"
   ]
  }
 ],
 "metadata": {
  "kernelspec": {
   "display_name": "Python 3 (ipykernel)",
   "language": "python",
   "name": "python3"
  },
  "language_info": {
   "codemirror_mode": {
    "name": "ipython",
    "version": 3
   },
   "file_extension": ".py",
   "mimetype": "text/x-python",
   "name": "python",
   "nbconvert_exporter": "python",
   "pygments_lexer": "ipython3",
   "version": "3.12.4"
  }
 },
 "nbformat": 4,
 "nbformat_minor": 5
}
